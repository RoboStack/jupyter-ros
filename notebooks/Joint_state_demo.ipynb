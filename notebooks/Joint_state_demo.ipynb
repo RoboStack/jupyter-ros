{
 "cells": [
  {
   "cell_type": "code",
   "execution_count": null,
   "metadata": {},
   "outputs": [],
   "source": [
    "import random\n",
    "\n",
    "import ipywidgets as wid\n",
    "\n",
    "# Uncheck if using Ubuntu 18.04 Dashing\n",
    "# import sys; sys.path.append('/opt/ros/dashing/lib/python3.6/site-packages/')\n",
    "# Provide path for binary or source installation in macOS or Windows.\n",
    "import sys; sys.path.append('/Users/zmk5/ROS2/ros2_install/ros2-osx/lib/python3.7/site-packages')\n",
    "import rclpy as rp\n",
    "from sensor_msgs.msg import JointState\n",
    "import functools\n",
    "\n",
    "from ipywidgets import FloatSlider, Layout, Button, Box, FloatText, Textarea, Dropdown, Label, IntSlider"
   ]
  },
  {
   "cell_type": "code",
   "execution_count": null,
   "metadata": {},
   "outputs": [],
   "source": [
    "from joint_state_publisher import JointStatePublisher"
   ]
  },
  {
   "cell_type": "code",
   "execution_count": null,
   "metadata": {},
   "outputs": [],
   "source": [
    "rp.init()\n",
    "jsp = JointStatePublisher()"
   ]
  },
  {
   "cell_type": "code",
   "execution_count": null,
   "metadata": {},
   "outputs": [],
   "source": [
    "script_node = rp.create_node(\"script_node\")\n",
    "msg = JointState()"
   ]
  },
  {
   "cell_type": "code",
   "execution_count": null,
   "metadata": {},
   "outputs": [],
   "source": [
    "from joint_state_publisher import JointStatePublisher\n",
    "msg_joint = JointStatePublisher()"
   ]
  },
  {
   "cell_type": "code",
   "execution_count": null,
   "metadata": {},
   "outputs": [],
   "source": [
    "#name = [\"shoulder_pan_joint\",\"shoulder_lift_joint\",\"elbow_joint\",'wirst_1_joint','wirst_2_joint','wirst_3_joint']\n",
    "\n",
    "joint_state_dict = { i : FloatSlider(min = jsp.free_joints[i]['min'], max = jsp.free_joints[i]['max']) for i in jsp.joint_list}\n",
    "joint_state_dict"
   ]
  },
  {
   "cell_type": "code",
   "execution_count": null,
   "metadata": {},
   "outputs": [],
   "source": [
    "def on_sent(b, node_=None):\n",
    "    pub = node_.create_publisher(JointState, '/joint_states', 10)\n",
    "    for i in joint_state_dict:\n",
    "        msg.name = [str(i)]\n",
    "        msg.position = [joint_state_dict[i].value]\n",
    "        pub.publish(msg)\n",
    "\n",
    "for key, value in joint_state_dict.items():\n",
    "    value.observe(functools.partial(on_sent, node_=script_node))"
   ]
  },
  {
   "cell_type": "code",
   "execution_count": null,
   "metadata": {},
   "outputs": [],
   "source": [
    "randomize = Button(description='Randomize')\n",
    "\n",
    "def on_randomize(randomize, node_=None):\n",
    "    pub = node_.create_publisher(JointState, '/joint_states', 10)\n",
    "    for i in joint_state_dict:\n",
    "        msg.name = [str(i)]\n",
    "        msg.position = [random.uniform(joint_state_dict[i].min, joint_state_dict[i].max)]\n",
    "        joint_state_dict[i].value = msg.position[0]\n",
    "        pub.publish(msg)    \n",
    "        \n",
    "randomize.on_click(functools.partial(on_randomize, node_=script_node))"
   ]
  },
  {
   "cell_type": "code",
   "execution_count": null,
   "metadata": {},
   "outputs": [],
   "source": [
    "center = Button(description='Center')\n",
    "\n",
    "def on_center(b, node_=None):\n",
    "    pub = node_.create_publisher(JointState, '/joint_states', 10)\n",
    "    for i in joint_state_dict:\n",
    "        msg.name = [str(i)]\n",
    "        msg.position = [0]\n",
    "        joint_state_dict[i].value = 0\n",
    "        pub.publish(msg)\n",
    "\n",
    "center.on_click(functools.partial(on_center, node_=script_node))"
   ]
  },
  {
   "cell_type": "code",
   "execution_count": null,
   "metadata": {
    "scrolled": false
   },
   "outputs": [],
   "source": [
    "form_item_layout = Layout(\n",
    "    display='flex',\n",
    "    flex_flow='row',\n",
    "    justify_content='space-between'\n",
    ")\n",
    "\n",
    "form_items1 = [Box([Label(value= key), value]) for key, value in joint_state_dict.items()]\n",
    "form_items1 += [Box([center]), Box([randomize])]\n",
    "\n",
    "form = Box(form_items1, layout=Layout(\n",
    "    display='flex',\n",
    "    flex_flow='column',\n",
    "    border='solid 2px',\n",
    "    align_items='stretch',\n",
    "    width='100%'\n",
    "))\n",
    "\n",
    "form"
   ]
  },
  {
   "cell_type": "code",
   "execution_count": null,
   "metadata": {},
   "outputs": [],
   "source": []
  }
 ],
 "metadata": {
  "file_extension": ".py",
  "kernelspec": {
   "display_name": "Python 3",
   "language": "python",
   "name": "python3"
  },
  "language_info": {
   "codemirror_mode": {
    "name": "ipython",
    "version": 3
   },
   "file_extension": ".py",
   "mimetype": "text/x-python",
   "name": "python",
   "nbconvert_exporter": "python",
   "pygments_lexer": "ipython3",
   "version": "3.7.4"
  },
  "mimetype": "text/x-python",
  "name": "python",
  "npconvert_exporter": "python",
  "pygments_lexer": "ipython3",
  "version": 3
 },
 "nbformat": 4,
 "nbformat_minor": 2
}
