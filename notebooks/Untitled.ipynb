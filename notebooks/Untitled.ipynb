{
 "cells": [
  {
   "cell_type": "code",
   "execution_count": 1,
   "id": "c181af8a-b2be-464f-9463-3034a174e720",
   "metadata": {},
   "outputs": [],
   "source": [
    "import os\n",
    "import sys\n",
    "\n",
    "from threading import Event\n",
    "from threading import Thread\n",
    "import unittest\n",
    "\n",
    "import launch\n",
    "import launch.actions\n",
    "import launch_ros.actions\n",
    "import launch_testing.actions\n",
    "import launch_testing.markers\n",
    "import pytest\n",
    "import rclpy\n",
    "from rclpy.node import Node\n",
    "from std_msgs.msg import String\n",
    "from rclpy.executors import MultiThreadedExecutor"
   ]
  },
  {
   "cell_type": "code",
   "execution_count": 2,
   "id": "a7d4f406-1a22-47aa-ab21-07f7552b6410",
   "metadata": {},
   "outputs": [],
   "source": [
    "class MakeTestNode(Node):\n",
    "\n",
    "    def __init__(self, name='test_node'):\n",
    "        super().__init__(name)\n",
    "        self.msg_event_object = Event()\n",
    "        executor = MultiThreadedExecutor()\n",
    "        executor.add_node(node)\n",
    "\n",
    "    def start_subscriber(self):\n",
    "        # Create a subscriber\n",
    "        self.subscription = self.create_subscription(\n",
    "            String,\n",
    "            'chatter',\n",
    "            self.subscriber_callback,\n",
    "            10\n",
    "        )\n",
    "\n",
    "        # Add a spin thread\n",
    "        self.ros_spin_thread = Thread(target=lambda node: rclpy.spin(node), args=(self,))\n",
    "        self.ros_spin_thread.start()\n",
    "\n",
    "    def subscriber_callback(self, data):\n",
    "        self.msg_event_object.set()"
   ]
  },
  {
   "cell_type": "code",
   "execution_count": 3,
   "id": "88724745-2810-4d53-8a6a-d6e68ba0dfa5",
   "metadata": {},
   "outputs": [],
   "source": [
    "rclpy.init()"
   ]
  },
  {
   "cell_type": "code",
   "execution_count": 4,
   "id": "e8ee24af-9e5d-425e-ba57-7f9583ea61d9",
   "metadata": {},
   "outputs": [
    {
     "ename": "NameError",
     "evalue": "name 'node' is not defined",
     "output_type": "error",
     "traceback": [
      "\u001b[0;31m---------------------------------------------------------------------------\u001b[0m",
      "\u001b[0;31mNameError\u001b[0m                                 Traceback (most recent call last)",
      "Input \u001b[0;32mIn [4]\u001b[0m, in \u001b[0;36m<cell line: 1>\u001b[0;34m()\u001b[0m\n\u001b[0;32m----> 1\u001b[0m obj \u001b[38;5;241m=\u001b[39m \u001b[43mMakeTestNode\u001b[49m\u001b[43m(\u001b[49m\u001b[43m)\u001b[49m\n",
      "Input \u001b[0;32mIn [2]\u001b[0m, in \u001b[0;36mMakeTestNode.__init__\u001b[0;34m(self, name)\u001b[0m\n\u001b[1;32m      5\u001b[0m \u001b[38;5;28mself\u001b[39m\u001b[38;5;241m.\u001b[39mmsg_event_object \u001b[38;5;241m=\u001b[39m Event()\n\u001b[1;32m      6\u001b[0m executor \u001b[38;5;241m=\u001b[39m MultiThreadedExecutor()\n\u001b[0;32m----> 7\u001b[0m executor\u001b[38;5;241m.\u001b[39madd_node(\u001b[43mnode\u001b[49m)\n",
      "\u001b[0;31mNameError\u001b[0m: name 'node' is not defined"
     ]
    }
   ],
   "source": [
    "obj = MakeTestNode()"
   ]
  },
  {
   "cell_type": "code",
   "execution_count": 5,
   "id": "71229c5e-74e8-437b-b5c8-724b645a8efb",
   "metadata": {},
   "outputs": [
    {
     "ename": "NameError",
     "evalue": "name 'obj' is not defined",
     "output_type": "error",
     "traceback": [
      "\u001b[0;31m---------------------------------------------------------------------------\u001b[0m",
      "\u001b[0;31mNameError\u001b[0m                                 Traceback (most recent call last)",
      "Input \u001b[0;32mIn [5]\u001b[0m, in \u001b[0;36m<cell line: 1>\u001b[0;34m()\u001b[0m\n\u001b[0;32m----> 1\u001b[0m \u001b[43mobj\u001b[49m\u001b[38;5;241m.\u001b[39mstart_subscriber()\n",
      "\u001b[0;31mNameError\u001b[0m: name 'obj' is not defined"
     ]
    }
   ],
   "source": [
    "obj.start_subscriber()"
   ]
  },
  {
   "cell_type": "code",
   "execution_count": null,
   "id": "a341bd8b-c765-48de-989a-d36b7f8bd44d",
   "metadata": {},
   "outputs": [],
   "source": [
    "obj2 = MakeTestNode(\"other_node\")"
   ]
  },
  {
   "cell_type": "code",
   "execution_count": null,
   "id": "8d7499ac-764f-41f3-b2cf-f99db0faf70d",
   "metadata": {},
   "outputs": [],
   "source": [
    "obj2.start_subscriber()"
   ]
  },
  {
   "cell_type": "code",
   "execution_count": null,
   "id": "de91de4e-1e2e-4f45-814c-492115ff85cb",
   "metadata": {},
   "outputs": [],
   "source": []
  }
 ],
 "metadata": {
  "kernelspec": {
   "display_name": "Python 3 (ipykernel)",
   "language": "python",
   "name": "python3"
  },
  "language_info": {
   "codemirror_mode": {
    "name": "ipython",
    "version": 3
   },
   "file_extension": ".py",
   "mimetype": "text/x-python",
   "name": "python",
   "nbconvert_exporter": "python",
   "pygments_lexer": "ipython3",
   "version": "3.8.10"
  }
 },
 "nbformat": 4,
 "nbformat_minor": 5
}
