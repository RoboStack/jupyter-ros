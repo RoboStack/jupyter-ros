{
 "cells": [
  {
   "cell_type": "code",
   "execution_count": 1,
   "id": "3b12ee9d",
   "metadata": {},
   "outputs": [],
   "source": [
    "%load_ext autoreload\n",
    "%autoreload 2"
   ]
  },
  {
   "cell_type": "code",
   "execution_count": 2,
   "id": "7259a8b6",
   "metadata": {},
   "outputs": [
    {
     "name": "stdout",
     "output_type": "stream",
     "text": [
      "The rospy package is not found in your $PYTHONPATH. Subscribe and publish are not going to work.\n",
      "Do you need to activate your ROS environment?\n"
     ]
    }
   ],
   "source": [
    "import sys\n",
    "sys.path.append(\"./../../\")\n",
    "import rclpy as rp\n",
    "import jupyros.ros2 as jr2\n",
    "import jupyros.ros2.turtle_sim as turtle\n",
    "import os"
   ]
  },
  {
   "cell_type": "code",
   "execution_count": 3,
   "id": "5d2b775c-67f1-477e-aa73-4be220301fdf",
   "metadata": {},
   "outputs": [],
   "source": [
    "from time import time"
   ]
  },
  {
   "cell_type": "code",
   "execution_count": 4,
   "id": "4426a895-fb17-41d4-84ed-0e5f7386de38",
   "metadata": {},
   "outputs": [
    {
     "data": {
      "text/plain": [
       "<rclpy.node.Node at 0x7fc14e395b80>"
      ]
     },
     "execution_count": 4,
     "metadata": {},
     "output_type": "execute_result"
    }
   ],
   "source": [
    "rp.init()\n",
    "rp.create_node(\"superturtle\")"
   ]
  },
  {
   "cell_type": "markdown",
   "id": "fdc0622f",
   "metadata": {},
   "source": [
    "# Turtlesim"
   ]
  },
  {
   "cell_type": "code",
   "execution_count": 5,
   "id": "2dbf024d",
   "metadata": {},
   "outputs": [
    {
     "name": "stdout",
     "output_type": "stream",
     "text": [
      "turtle1 has spawned.\n"
     ]
    },
    {
     "data": {
      "application/vnd.jupyter.widget-view+json": {
       "model_id": "0fc72634a65f46498a222afb75eefa73",
       "version_major": 2,
       "version_minor": 0
      },
      "text/plain": [
       "MultiCanvas(height=1600, layout=Layout(width='100%'), width=1600)"
      ]
     },
     "metadata": {},
     "output_type": "display_data"
    }
   ],
   "source": [
    "turtlesim = turtle.TurtleSim(background_color=\"#0000FF\")\n",
    "display(turtlesim.canvas)"
   ]
  },
  {
   "cell_type": "code",
   "execution_count": 9,
   "id": "22c83e64-4e97-4eb5-83a1-c2c6c3946955",
   "metadata": {},
   "outputs": [
    {
     "ename": "NameError",
     "evalue": "name 'turtlesim' is not defined",
     "output_type": "error",
     "traceback": [
      "\u001b[0;31m---------------------------------------------------------------------------\u001b[0m",
      "\u001b[0;31mNameError\u001b[0m                                 Traceback (most recent call last)",
      "Input \u001b[0;32mIn [9]\u001b[0m, in \u001b[0;36m<cell line: 2>\u001b[0;34m()\u001b[0m\n\u001b[1;32m      1\u001b[0m \u001b[38;5;66;03m# Canvas default size is 1600x1600 starting from top-left corner\u001b[39;00m\n\u001b[0;32m----> 2\u001b[0m \u001b[43mturtlesim\u001b[49m\u001b[38;5;241m.\u001b[39mspawn(name\u001b[38;5;241m=\u001b[39m\u001b[38;5;124m\"\u001b[39m\u001b[38;5;124msimon\u001b[39m\u001b[38;5;124m\"\u001b[39m, pose\u001b[38;5;241m=\u001b[39m{\u001b[38;5;124m\"\u001b[39m\u001b[38;5;124mx\u001b[39m\u001b[38;5;124m\"\u001b[39m: \u001b[38;5;241m600\u001b[39m, \u001b[38;5;124m\"\u001b[39m\u001b[38;5;124my\u001b[39m\u001b[38;5;124m\"\u001b[39m: \u001b[38;5;241m350\u001b[39m, \u001b[38;5;124m\"\u001b[39m\u001b[38;5;124mtheta\u001b[39m\u001b[38;5;124m\"\u001b[39m: \u001b[38;5;241m20\u001b[39m})\n\u001b[1;32m      4\u001b[0m turtlesim\u001b[38;5;241m.\u001b[39mspawn(pose\u001b[38;5;241m=\u001b[39m{\u001b[38;5;124m\"\u001b[39m\u001b[38;5;124mx\u001b[39m\u001b[38;5;124m\"\u001b[39m: \u001b[38;5;241m1050\u001b[39m, \u001b[38;5;124m\"\u001b[39m\u001b[38;5;124my\u001b[39m\u001b[38;5;124m\"\u001b[39m: \u001b[38;5;241m1250\u001b[39m, \u001b[38;5;124m\"\u001b[39m\u001b[38;5;124mtheta\u001b[39m\u001b[38;5;124m\"\u001b[39m: \u001b[38;5;241m90\u001b[39m})\n\u001b[1;32m      6\u001b[0m \u001b[38;5;66;03m# Change the turtle path color\u001b[39;00m\n",
      "\u001b[0;31mNameError\u001b[0m: name 'turtlesim' is not defined"
     ]
    }
   ],
   "source": [
    "# Canvas default size is 1600x1600 starting from top-left corner\n",
    "turtlesim.spawn(name=\"simon\", pose={\"x\": 600, \"y\": 350, \"theta\": 20})\n",
    "\n",
    "turtlesim.spawn(pose={\"x\": 1050, \"y\": 1250, \"theta\": 90})\n",
    "\n",
    "# Change the turtle path color\n",
    "turtlesim.turtles[\"turtle1\"].path_color = \"#F2F2F2\""
   ]
  },
  {
   "cell_type": "code",
   "execution_count": null,
   "id": "aa5b0561-2d1f-4c62-869b-4343bfecae83",
   "metadata": {},
   "outputs": [],
   "source": [
    "# !rosrun turtlesim turtlesim_node\n",
    "# !rosrun turtlesim turtle_teleop_key"
   ]
  },
  {
   "cell_type": "markdown",
   "id": "ac91211f",
   "metadata": {},
   "source": [
    "### Subscriber"
   ]
  },
  {
   "cell_type": "code",
   "execution_count": null,
   "id": "497db1e0-8c21-4ec0-b620-1607ab34d685",
   "metadata": {},
   "outputs": [],
   "source": [
    "poses = {}\n",
    "\n",
    "for name in turtlesim.turtles.keys():\n",
    "    poses[name] = turtlesim.turtles[name].pose\n",
    "    \n",
    "print(poses[\"turtle1\"])"
   ]
  },
  {
   "cell_type": "code",
   "execution_count": null,
   "id": "cd2e66dc",
   "metadata": {},
   "outputs": [],
   "source": [
    "topic_name = '/turtle1/pose'\n",
    "\n",
    "# Based on the dimensions of window controlled by teleop keyboard\n",
    "def convert_xy_units(x, y):\n",
    "    convert_factor = 11.08\n",
    "    x_convert = x / convert_factor * turtlesim.canvas.width\n",
    "    y_convert = (convert_factor - y) / convert_factor * turtlesim.canvas.height\n",
    "    \n",
    "    return x_convert, y_convert\n",
    "\n",
    "def callback_move_turtles(msg):\n",
    "    name = \"turtle1\"\n",
    "    x, y = convert_xy_units(msg.x, msg.y)\n",
    "    poses[name] = {\"x\": x,\n",
    "                   \"y\": y,\n",
    "                   \"theta\": msg.theta}\n",
    "    \n",
    "    turtlesim.move_turtles(new_poses=poses)\n",
    "\n",
    "jupyros.subscribe(topic_name, Pose, lambda msg: callback_move_turtles(msg))"
   ]
  },
  {
   "cell_type": "markdown",
   "id": "9c6dfc83",
   "metadata": {},
   "source": [
    "### Spiral Publisher"
   ]
  },
  {
   "cell_type": "code",
   "execution_count": null,
   "id": "89d8777c-8fc1-4c05-a588-6eb2d638a76b",
   "metadata": {},
   "outputs": [],
   "source": [
    "run = True"
   ]
  },
  {
   "cell_type": "code",
   "execution_count": null,
   "id": "968252d1-23ce-44fd-b8b2-54a55aeec753",
   "metadata": {},
   "outputs": [],
   "source": [
    "%%thread_cell\n",
    "\n",
    "rate = rospy.Rate(25)\n",
    "pub = rospy.Publisher(topic_name, Pose, queue_size=10, latch=True)\n",
    "i = 0\n",
    "\n",
    "while run:\n",
    "    msg = Pose()\n",
    "    msg.x = (i/1800*5)*math.sin(i / 180 * math.pi) + 11.08 / 2\n",
    "    msg.y = (i/1800*5)*math.cos(i / 180 * math.pi) + 11.08 / 2\n",
    "    msg.theta = - i / 180 * math.pi\n",
    "    pub.publish(msg)\n",
    "    rate.sleep()\n",
    "    i += 1\n",
    "print(\"Done\")"
   ]
  },
  {
   "cell_type": "code",
   "execution_count": null,
   "id": "7c512d54-7387-467f-af3e-0ea7dbd3242c",
   "metadata": {},
   "outputs": [],
   "source": [
    "run = False"
   ]
  },
  {
   "cell_type": "markdown",
   "id": "d0d4dfdb-6a18-471c-b3e9-5434ad8e1eb8",
   "metadata": {},
   "source": [
    "## Spawn Service and Client"
   ]
  },
  {
   "cell_type": "code",
   "execution_count": null,
   "id": "f2573361-99a6-4df6-9733-80932bbbc861",
   "metadata": {},
   "outputs": [],
   "source": [
    "def spawn_turtle(msg):\n",
    "    print(f\"Spawning turtle at x={msg.x} and y={msg.y}\")\n",
    "    turtlesim.spawn(name=msg.name, \n",
    "                    pose={\"x\": msg.x, \n",
    "                          \"y\": msg.y, \n",
    "                          \"theta\": msg.theta})\n",
    "    return \"Spawned\""
   ]
  },
  {
   "cell_type": "code",
   "execution_count": null,
   "id": "685412eb-b2e8-44ef-876d-7ffa2bec0f23",
   "metadata": {},
   "outputs": [],
   "source": [
    "%%thread_cell\n",
    "\n",
    "srv = rospy.Service('spawn_srv', Spawn, spawn_turtle)"
   ]
  },
  {
   "cell_type": "code",
   "execution_count": null,
   "id": "c5927be6-db42-4046-8250-38c00ae54fae",
   "metadata": {},
   "outputs": [],
   "source": [
    "jupyros.client('spawn_srv', Spawn)"
   ]
  },
  {
   "cell_type": "code",
   "execution_count": 7,
   "id": "20eca27c-2ff0-4523-ae21-0eadabbd3a60",
   "metadata": {},
   "outputs": [],
   "source": [
    "def get_package_share_directory(package_name):\n",
    "    \"\"\"\n",
    "    Return the share directory of the given package.\n",
    "    For example, if you install the package 'foo' into\n",
    "    '/home/user/ros2_ws/install' and you called this function with 'foo' as the\n",
    "    argument, then it will return '/home/user/ros2_ws/install/share/foo' as\n",
    "    the package's share directory.\n",
    "    :param str package_name: name of the package to locate\n",
    "    :returns: share directory of the package\n",
    "    :raises: :exc:`PackageNotFoundError` if the package is not found\n",
    "    \"\"\"\n",
    "    return os.path.join(get_package_prefix(package_name), 'share', package_name)"
   ]
  },
  {
   "cell_type": "code",
   "execution_count": 16,
   "id": "b2770803-71eb-4b18-9c2d-a7f732ae33f9",
   "metadata": {},
   "outputs": [
    {
     "data": {
      "text/plain": [
       "'/opt/ros/foxy/share/turtlesim'"
      ]
     },
     "execution_count": 16,
     "metadata": {},
     "output_type": "execute_result"
    }
   ],
   "source": [
    "get_package_share_directory(\"turtlesim\")"
   ]
  },
  {
   "cell_type": "code",
   "execution_count": 14,
   "id": "c18690ce-ac73-4b51-8076-04a7289cf039",
   "metadata": {},
   "outputs": [
    {
     "ename": "ModuleNotFoundError",
     "evalue": "No module named 'ament_index'",
     "output_type": "error",
     "traceback": [
      "\u001b[0;31m---------------------------------------------------------------------------\u001b[0m",
      "\u001b[0;31mModuleNotFoundError\u001b[0m                       Traceback (most recent call last)",
      "Input \u001b[0;32mIn [14]\u001b[0m, in \u001b[0;36m<cell line: 1>\u001b[0;34m()\u001b[0m\n\u001b[0;32m----> 1\u001b[0m \u001b[38;5;28;01mimport\u001b[39;00m \u001b[38;5;21;01mament_index\u001b[39;00m\n",
      "\u001b[0;31mModuleNotFoundError\u001b[0m: No module named 'ament_index'"
     ]
    }
   ],
   "source": []
  },
  {
   "cell_type": "code",
   "execution_count": 15,
   "id": "3a4671a6-eb41-4bbf-b645-112e2530563d",
   "metadata": {},
   "outputs": [],
   "source": [
    "from ament_index_python.packages import get_package_share_directory"
   ]
  },
  {
   "cell_type": "code",
   "execution_count": null,
   "id": "8e1116f5-f3f2-4c1b-abcf-b249fb78adf9",
   "metadata": {},
   "outputs": [],
   "source": []
  }
 ],
 "metadata": {
  "kernelspec": {
   "display_name": "Python 3 (ipykernel)",
   "language": "python",
   "name": "python3"
  },
  "language_info": {
   "codemirror_mode": {
    "name": "ipython",
    "version": 3
   },
   "file_extension": ".py",
   "mimetype": "text/x-python",
   "name": "python",
   "nbconvert_exporter": "python",
   "pygments_lexer": "ipython3",
   "version": "3.8.10"
  }
 },
 "nbformat": 4,
 "nbformat_minor": 5
}
