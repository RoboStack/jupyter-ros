{
 "cells": [
  {
   "cell_type": "code",
   "execution_count": 1,
   "metadata": {},
   "outputs": [],
   "source": [
    "import rospy as rp\n",
    "import jupyros as jr"
   ]
  },
  {
   "cell_type": "code",
   "execution_count": 8,
   "metadata": {},
   "outputs": [],
   "source": [
    "from __future__ import print_function"
   ]
  },
  {
   "cell_type": "code",
   "execution_count": 2,
   "metadata": {},
   "outputs": [],
   "source": [
    "from geometry_msgs.msg import Pose, Vector3"
   ]
  },
  {
   "cell_type": "code",
   "execution_count": 3,
   "metadata": {},
   "outputs": [],
   "source": [
    "rp.init_node('runner')"
   ]
  },
  {
   "cell_type": "code",
   "execution_count": 4,
   "metadata": {},
   "outputs": [],
   "source": [
    "from geometry_msgs.msg import Pose\n",
    "import math"
   ]
  },
  {
   "cell_type": "code",
   "execution_count": 5,
   "metadata": {},
   "outputs": [],
   "source": [
    "%%thread_cell\n",
    "from geometry_msgs.msg import Pose, Vector3\n",
    "import rospy as rp\n",
    "import math\n",
    "i = 0\n",
    "rate = rp.Rate(5)\n",
    "pub = rp.Publisher('/poser', Vector3, queue_size=10)\n",
    "while True:\n",
    "    msg = Vector3()\n",
    "    msg.x = math.sin(i * 0.1)\n",
    "    msg.y = math.cos(i * 0.1)\n",
    "    pub.publish(msg)\n",
    "    i += 1\n",
    "    rate.sleep()"
   ]
  },
  {
   "cell_type": "code",
   "execution_count": 9,
   "metadata": {
    "scrolled": false
   },
   "outputs": [
    {
     "data": {
      "application/vnd.jupyter.widget-view+json": {
       "model_id": "71d7750906044822ab54376cbccf5f42",
       "version_major": 2,
       "version_minor": 0
      },
      "text/plain": [
       "VkJveChjaGlsZHJlbj0oSEJveChjaGlsZHJlbj0oQnV0dG9uKGRlc2NyaXB0aW9uPXUnU3RvcCcsIHN0eWxlPUJ1dHRvblN0eWxlKCkpLCkpLCBPdXRwdXQobGF5b3V0PUxheW91dChib3JkZXLigKY=\n"
      ]
     },
     "metadata": {},
     "output_type": "display_data"
    },
    {
     "name": "stderr",
     "output_type": "stream",
     "text": [
      "[WARN] [1568537797.185745]: Inbound TCP/IP connection failed: connection from sender terminated before handshake header received. 0 bytes were received. Please check sender for additional details.\n",
      "[ERROR] [1568537829.565439]: bad callback: <function <lambda> at 0x7f6e04f4f9b0>\n",
      "Traceback (most recent call last):\n",
      "  File \"/opt/ros/melodic/lib/python2.7/dist-packages/rospy/topics.py\", line 750, in _invoke_callback\n",
      "    cb(msg)\n",
      "  File \"<ipython-input-9-4321c4b74941>\", line 1, in <lambda>\n",
      "    jr.subscribe('/poser', Vector3, lambda msg: print(msg.x, msg.y))\n",
      "  File \"/home/wolfv/Programs/jupyter-ros/jupyros/pubsub.py\", line 25, in write\n",
      "    output_registry[threading.currentThread().getName()].append_stdout(msg)\n",
      "KeyError: '/poser'\n",
      "\n"
     ]
    }
   ],
   "source": [
    "jr.subscribe('/poser', Vector3, lambda msg: print(msg.x, msg.y))"
   ]
  },
  {
   "cell_type": "code",
   "execution_count": 10,
   "metadata": {},
   "outputs": [],
   "source": [
    "plot_string = '/poser/:x:y'\n",
    "topic = plot_string[:plot_string.find(':') - 1]\n",
    "fields = plot_string.split(':')[1:]"
   ]
  },
  {
   "cell_type": "code",
   "execution_count": 11,
   "metadata": {},
   "outputs": [
    {
     "data": {
      "application/vnd.jupyter.widget-view+json": {
       "model_id": "4da7a5dd5ab540b6912ac088c9030622",
       "version_major": 2,
       "version_minor": 0
      },
      "text/plain": [
       "RmlndXJlKGF4ZXM9W0F4aXMobGFiZWw9dSdYJywgc2NhbGU9TGluZWFyU2NhbGUoKSksIEF4aXMobGFiZWw9dSdZJywgb3JpZW50YXRpb249J3ZlcnRpY2FsJywgc2NhbGU9TGluZWFyU2NhbGXigKY=\n"
      ]
     },
     "metadata": {},
     "output_type": "display_data"
    }
   ],
   "source": [
    "jr.live_plot('/poser/:x:y', Vector3)"
   ]
  },
  {
   "cell_type": "code",
   "execution_count": 9,
   "metadata": {},
   "outputs": [],
   "source": [
    "!rqt_plot /poser"
   ]
  },
  {
   "cell_type": "code",
   "execution_count": null,
   "metadata": {},
   "outputs": [],
   "source": []
  }
 ],
 "metadata": {
  "kernelspec": {
   "display_name": "ROS Python 2",
   "language": "python",
   "name": "ros_python"
  },
  "language_info": {
   "codemirror_mode": {
    "name": "ipython",
    "version": 2
   },
   "file_extension": ".py",
   "mimetype": "text/x-python",
   "name": "python",
   "nbconvert_exporter": "python",
   "pygments_lexer": "ipython2",
   "version": "2.7.15+"
  }
 },
 "nbformat": 4,
 "nbformat_minor": 2
}
