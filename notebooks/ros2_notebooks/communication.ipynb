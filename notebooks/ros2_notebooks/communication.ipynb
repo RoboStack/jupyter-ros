{
 "cells": [
  {
   "cell_type": "code",
   "execution_count": 1,
   "metadata": {},
   "outputs": [
    {
     "data": {
      "text/plain": [
       "'Credits to zmk5 at https://github.com/zmk5/jupyter-ros2/'"
      ]
     },
     "execution_count": 1,
     "metadata": {},
     "output_type": "execute_result"
    }
   ],
   "source": [
    "\"Credits to zmk5 at https://github.com/zmk5/jupyter-ros2/\""
   ]
  },
  {
   "cell_type": "code",
   "execution_count": 2,
   "metadata": {},
   "outputs": [
    {
     "ename": "ModuleNotFoundError",
     "evalue": "No module named 'jupyros'",
     "output_type": "error",
     "traceback": [
      "\u001b[0;31m---------------------------------------------------------------------------\u001b[0m",
      "\u001b[0;31mModuleNotFoundError\u001b[0m                       Traceback (most recent call last)",
      "Input \u001b[0;32mIn [2]\u001b[0m, in \u001b[0;36m<cell line: 3>\u001b[0;34m()\u001b[0m\n\u001b[1;32m      1\u001b[0m \u001b[38;5;28;01mimport\u001b[39;00m \u001b[38;5;21;01mrclpy\u001b[39;00m \u001b[38;5;28;01mas\u001b[39;00m \u001b[38;5;21;01mrp\u001b[39;00m\n\u001b[1;32m      2\u001b[0m \u001b[38;5;28;01mfrom\u001b[39;00m \u001b[38;5;21;01mgeometry_msgs\u001b[39;00m\u001b[38;5;21;01m.\u001b[39;00m\u001b[38;5;21;01mmsg\u001b[39;00m \u001b[38;5;28;01mimport\u001b[39;00m Pose\n\u001b[0;32m----> 3\u001b[0m \u001b[38;5;28;01mimport\u001b[39;00m \u001b[38;5;21;01mjupyros\u001b[39;00m\u001b[38;5;21;01m.\u001b[39;00m\u001b[38;5;21;01mros2\u001b[39;00m \u001b[38;5;28;01mas\u001b[39;00m \u001b[38;5;21;01mjr2\u001b[39;00m\n",
      "\u001b[0;31mModuleNotFoundError\u001b[0m: No module named 'jupyros'"
     ]
    }
   ],
   "source": [
    "import rclpy as rp\n",
    "from geometry_msgs.msg import Pose\n",
    "import jupyros.ros2 as jr2"
   ]
  },
  {
   "cell_type": "code",
   "execution_count": 2,
   "metadata": {},
   "outputs": [],
   "source": [
    "rp.init()\n",
    "test_node = rp.create_node(\"test_node\")"
   ]
  },
  {
   "cell_type": "code",
   "execution_count": 3,
   "metadata": {},
   "outputs": [],
   "source": [
    "def cb(msg):\n",
    "    x = msg.position.x\n",
    "    y = msg.position.y\n",
    "    z = msg.position.z\n",
    "    return x, y, z"
   ]
  },
  {
   "cell_type": "code",
   "execution_count": 13,
   "metadata": {
    "scrolled": true
   },
   "outputs": [
    {
     "data": {
      "application/vnd.jupyter.widget-view+json": {
       "model_id": "ea5c2cec372643ce8d51b9ed8f48b9e9",
       "version_major": 2,
       "version_minor": 0
      },
      "text/plain": [
       "VBox(children=(HBox(children=(Button(description='Start', style=ButtonStyle()), Button(description='Stop', sty…"
      ]
     },
     "metadata": {},
     "output_type": "display_data"
    }
   ],
   "source": [
    "#Method 1 of subscribing and printing data\n",
    "sub = jr2.Subscription(test_node, Pose, '/pose_stream', cb, print_incoming_msg=True)\n",
    "sub.display()"
   ]
  },
  {
   "cell_type": "code",
   "execution_count": 14,
   "metadata": {},
   "outputs": [
    {
     "data": {
      "application/vnd.jupyter.widget-view+json": {
       "model_id": "a56dc5b74281488a97865a2a685c8895",
       "version_major": 2,
       "version_minor": 0
      },
      "text/plain": [
       "VBox(children=(HBox(children=(Button(description='Start', style=ButtonStyle()), Button(description='Stop', sty…"
      ]
     },
     "metadata": {},
     "output_type": "display_data"
    }
   ],
   "source": [
    "#Method 2 of subscribing and printing data\n",
    "jr2.Subscription(test_node, Pose, '/pose_stream', cb, print_incoming_msg=True).display()"
   ]
  },
  {
   "cell_type": "code",
   "execution_count": 17,
   "metadata": {},
   "outputs": [
    {
     "data": {
      "application/vnd.jupyter.widget-view+json": {
       "model_id": "75c277acc15b40c2a4f06ce3bd9fad1f",
       "version_major": 2,
       "version_minor": 0
      },
      "text/plain": [
       "VBox(children=(HBox(children=(Button(description='Send Message', style=ButtonStyle()), IntText(value=5, descri…"
      ]
     },
     "metadata": {},
     "output_type": "display_data"
    }
   ],
   "source": [
    "#Method 1 of publishing to node\n",
    "pub = jr2.Publisher(test_node, Pose, '/pose_strea')\n",
    "pub.display()"
   ]
  },
  {
   "cell_type": "code",
   "execution_count": 16,
   "metadata": {},
   "outputs": [
    {
     "data": {
      "application/vnd.jupyter.widget-view+json": {
       "model_id": "f7b515a362334c97bb81f9b5edfe396f",
       "version_major": 2,
       "version_minor": 0
      },
      "text/plain": [
       "VBox(children=(HBox(children=(Button(description='Send Message', style=ButtonStyle()), IntText(value=5, descri…"
      ]
     },
     "metadata": {},
     "output_type": "display_data"
    }
   ],
   "source": [
    "#Method 2 of publishing to node\n",
    "jr2.Publisher(test_node, Pose, '/pose_stream').display()"
   ]
  },
  {
   "cell_type": "code",
   "execution_count": 11,
   "metadata": {},
   "outputs": [
    {
     "data": {
      "text/plain": [
       "(0.0, 0.0, 0.0)"
      ]
     },
     "execution_count": 11,
     "metadata": {},
     "output_type": "execute_result"
    }
   ],
   "source": [
    "sub.data"
   ]
  },
  {
   "cell_type": "code",
   "execution_count": 10,
   "metadata": {},
   "outputs": [
    {
     "name": "stdout",
     "output_type": "stream",
     "text": [
      "Collecting pygments\n",
      "  Downloading Pygments-2.12.0-py3-none-any.whl (1.1 MB)\n",
      "\u001b[K     |████████████████████████████████| 1.1 MB 2.6 MB/s eta 0:00:01\n",
      "\u001b[31mERROR: myst-parser 0.15.2 has requirement markdown-it-py<2.0.0,>=1.0.0, but you'll have markdown-it-py 2.1.0 which is incompatible.\u001b[0m\n",
      "\u001b[31mERROR: myst-parser 0.15.2 has requirement mdit-py-plugins~=0.2.8, but you'll have mdit-py-plugins 0.3.0 which is incompatible.\u001b[0m\n",
      "\u001b[31mERROR: jupyter-cache 0.4.3 has requirement nbclient<0.6,>=0.2, but you'll have nbclient 0.6.0 which is incompatible.\u001b[0m\n",
      "\u001b[31mERROR: jupyter-book 0.12.3 has requirement Jinja2<3.1, but you'll have jinja2 3.1.1 which is incompatible.\u001b[0m\n",
      "\u001b[?25hInstalling collected packages: pygments\n",
      "  Attempting uninstall: pygments\n",
      "    Found existing installation: Pygments 2.3.1\n",
      "    Not uninstalling pygments at /usr/lib/python3/dist-packages, outside environment /usr\n",
      "    Can't uninstall 'Pygments'. No files were found to uninstall.\n",
      "Successfully installed pygments-2.12.0\n"
     ]
    }
   ],
   "source": []
  },
  {
   "cell_type": "code",
   "execution_count": 5,
   "metadata": {},
   "outputs": [
    {
     "ename": "TypeError",
     "evalue": "Input argument 'node' is not of type rclpy.node.Node!",
     "output_type": "error",
     "traceback": [
      "\u001b[0;31m---------------------------------------------------------------------------\u001b[0m",
      "\u001b[0;31mTypeError\u001b[0m                                 Traceback (most recent call last)",
      "Input \u001b[0;32mIn [5]\u001b[0m, in \u001b[0;36m<cell line: 2>\u001b[0;34m()\u001b[0m\n\u001b[1;32m      1\u001b[0m \u001b[38;5;66;03m#Method 1 of subscribing and printing data\u001b[39;00m\n\u001b[0;32m----> 2\u001b[0m sub \u001b[38;5;241m=\u001b[39m \u001b[43mjr2\u001b[49m\u001b[38;5;241;43m.\u001b[39;49m\u001b[43msubscribe\u001b[49m\u001b[43m(\u001b[49m\u001b[38;5;124;43m'\u001b[39;49m\u001b[38;5;124;43m/robot_state_publisher\u001b[39;49m\u001b[38;5;124;43m'\u001b[39;49m\u001b[43m,\u001b[49m\u001b[43m \u001b[49m\u001b[43mPose\u001b[49m\u001b[43m,\u001b[49m\u001b[43m \u001b[49m\u001b[38;5;124;43m'\u001b[39;49m\u001b[38;5;124;43m/robot_description\u001b[39;49m\u001b[38;5;124;43m'\u001b[39;49m\u001b[43m,\u001b[49m\u001b[43m \u001b[49m\u001b[43mcb\u001b[49m\u001b[43m)\u001b[49m\n\u001b[1;32m      3\u001b[0m sub\u001b[38;5;241m.\u001b[39mdisplay()\n",
      "File \u001b[0;32m/projects/dev_ws/src/jupyter-ros/jupyros/ros2/pubsub.py:57\u001b[0m, in \u001b[0;36msubscribe\u001b[0;34m(node, topic, msg_type, callback)\u001b[0m\n\u001b[1;32m     54\u001b[0m \u001b[38;5;66;03m# Check if a ros2 node is provided.\u001b[39;00m\n\u001b[1;32m     55\u001b[0m \u001b[38;5;28;01mif\u001b[39;00m (\u001b[38;5;129;01mnot\u001b[39;00m \u001b[38;5;28misinstance\u001b[39m(node, rclpy\u001b[38;5;241m.\u001b[39mnode\u001b[38;5;241m.\u001b[39mNode)\n\u001b[1;32m     56\u001b[0m         \u001b[38;5;129;01mor\u001b[39;00m \u001b[38;5;129;01mnot\u001b[39;00m \u001b[38;5;28missubclass\u001b[39m(\u001b[38;5;28mtype\u001b[39m(node), rclpy\u001b[38;5;241m.\u001b[39mnode\u001b[38;5;241m.\u001b[39mNode)):\n\u001b[0;32m---> 57\u001b[0m     \u001b[38;5;28;01mraise\u001b[39;00m \u001b[38;5;167;01mTypeError\u001b[39;00m(\u001b[38;5;124m\"\u001b[39m\u001b[38;5;124mInput argument \u001b[39m\u001b[38;5;124m'\u001b[39m\u001b[38;5;124mnode\u001b[39m\u001b[38;5;124m'\u001b[39m\u001b[38;5;124m is not of type rclpy.node.Node!\u001b[39m\u001b[38;5;124m\"\u001b[39m)\n\u001b[1;32m     59\u001b[0m \u001b[38;5;28;01mif\u001b[39;00m SUBSCRIBER_REGISTRY\u001b[38;5;241m.\u001b[39mget(topic):\n\u001b[1;32m     60\u001b[0m     \u001b[38;5;28;01mraise\u001b[39;00m \u001b[38;5;167;01mRuntimeError\u001b[39;00m(\u001b[38;5;124m\"\u001b[39m\u001b[38;5;124mAlready registerd...\u001b[39m\u001b[38;5;124m\"\u001b[39m)\n",
      "\u001b[0;31mTypeError\u001b[0m: Input argument 'node' is not of type rclpy.node.Node!"
     ]
    }
   ],
   "source": [
    "#Method 1 of subscribing and printing data\n",
    "sub = jr2.subscribe('/robot_state_publisher', Pose, '/robot_description', cb)\n",
    "sub.display()"
   ]
  },
  {
   "cell_type": "code",
   "execution_count": 3,
   "metadata": {},
   "outputs": [
    {
     "name": "stdout",
     "output_type": "stream",
     "text": [
      "/robot_state_publisher\n",
      "/test_node\n",
      "/turtlebot3_diff_drive\n",
      "/turtlebot3_imu\n",
      "/turtlebot3_joint_state\n",
      "/turtlebot3_laserscan\n"
     ]
    }
   ],
   "source": [
    "!ros2 node list"
   ]
  },
  {
   "cell_type": "code",
   "execution_count": 4,
   "metadata": {},
   "outputs": [
    {
     "name": "stdout",
     "output_type": "stream",
     "text": [
      "/clock\n",
      "/cmd_vel\n",
      "/imu\n",
      "/joint_states\n",
      "/odom\n",
      "/parameter_events\n",
      "/robot_description\n",
      "/rosout\n",
      "/scan\n",
      "/tf\n",
      "/tf_static\n"
     ]
    }
   ],
   "source": [
    "!ros2 topic list"
   ]
  },
  {
   "cell_type": "code",
   "execution_count": 24,
   "metadata": {},
   "outputs": [
    {
     "name": "stdout",
     "output_type": "stream",
     "text": [
      "/usr/bin/sh: rostopic: command not found\n"
     ]
    }
   ],
   "source": [
    "!rostopic list"
   ]
  },
  {
   "cell_type": "code",
   "execution_count": null,
   "metadata": {},
   "outputs": [],
   "source": []
  }
 ],
 "metadata": {
  "kernelspec": {
   "display_name": "Python 3 (ipykernel)",
   "language": "python",
   "name": "python3"
  },
  "language_info": {
   "codemirror_mode": {
    "name": "ipython",
    "version": 3
   },
   "file_extension": ".py",
   "mimetype": "text/x-python",
   "name": "python",
   "nbconvert_exporter": "python",
   "pygments_lexer": "ipython3",
   "version": "3.8.10"
  }
 },
 "nbformat": 4,
 "nbformat_minor": 4
}
