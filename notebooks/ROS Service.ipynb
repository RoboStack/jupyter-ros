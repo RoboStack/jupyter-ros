{
 "cells": [
  {
   "cell_type": "code",
   "execution_count": 2,
   "id": "3b12ee9d",
   "metadata": {},
   "outputs": [
    {
     "name": "stdout",
     "output_type": "stream",
     "text": [
      "The autoreload extension is already loaded. To reload it, use:\n",
      "  %reload_ext autoreload\n"
     ]
    },
    {
     "ename": "ModuleNotFoundError",
     "evalue": "No module named 'rospy_tutorials'",
     "output_type": "error",
     "traceback": [
      "\u001b[0;31m---------------------------------------------------------------------------\u001b[0m",
      "\u001b[0;31mModuleNotFoundError\u001b[0m                       Traceback (most recent call last)",
      "Input \u001b[0;32mIn [2]\u001b[0m, in \u001b[0;36m<cell line: 5>\u001b[0;34m()\u001b[0m\n\u001b[1;32m      2\u001b[0m get_ipython()\u001b[38;5;241m.\u001b[39mrun_line_magic(\u001b[38;5;124m'\u001b[39m\u001b[38;5;124mautoreload\u001b[39m\u001b[38;5;124m'\u001b[39m, \u001b[38;5;124m'\u001b[39m\u001b[38;5;124m2\u001b[39m\u001b[38;5;124m'\u001b[39m)\n\u001b[1;32m      4\u001b[0m \u001b[38;5;28;01mimport\u001b[39;00m \u001b[38;5;21;01mrclpy\u001b[39;00m\n\u001b[0;32m----> 5\u001b[0m \u001b[38;5;28;01mfrom\u001b[39;00m \u001b[38;5;21;01mrospy_tutorials\u001b[39;00m\u001b[38;5;21;01m.\u001b[39;00m\u001b[38;5;21;01msrv\u001b[39;00m \u001b[38;5;28;01mimport\u001b[39;00m AddTwoInts, AddTwoIntsResponse\n\u001b[1;32m      6\u001b[0m \u001b[38;5;28;01mimport\u001b[39;00m \u001b[38;5;21;01mjupyros\u001b[39;00m\n\u001b[1;32m      7\u001b[0m \u001b[38;5;28;01mfrom\u001b[39;00m \u001b[38;5;21;01mturtlesim\u001b[39;00m\u001b[38;5;21;01m.\u001b[39;00m\u001b[38;5;21;01msrv\u001b[39;00m \u001b[38;5;28;01mimport\u001b[39;00m Spawn\n",
      "\u001b[0;31mModuleNotFoundError\u001b[0m: No module named 'rospy_tutorials'"
     ]
    }
   ],
   "source": [
    "%load_ext autoreload\n",
<<<<<<< HEAD
    "%autoreload 2\n",
    "\n",
    "import rclpy\n",
    "from rospy_tutorials.srv import AddTwoInts, AddTwoIntsResponse\n",
    "import jupyros\n",
    "from turtlesim.srv import Spawn"
=======
    "%autoreload 2"
>>>>>>> origin/master
   ]
  },
  {
   "cell_type": "code",
   "execution_count": null,
   "id": "7259a8b6",
   "metadata": {},
   "outputs": [],
   "source": [
    "import jupyros\n",
    "import rospy\n",
    "from rospy_tutorials.srv import AddTwoInts, AddTwoIntsResponse"
   ]
  },
  {
   "cell_type": "code",
   "execution_count": null,
   "id": "e2d89970",
   "metadata": {},
   "outputs": [],
   "source": [
    "rospy.init_node(\"adder\")"
   ]
  },
  {
   "cell_type": "markdown",
   "id": "2572b8ea",
   "metadata": {},
   "source": [
    "# Add Two Ints"
   ]
  },
  {
   "cell_type": "code",
   "execution_count": null,
   "id": "8725d5f8",
   "metadata": {},
   "outputs": [],
   "source": [
    "def handle_add_two_ints(req):\n",
    "    print(\"Returning [%s + %s = %s]\"%(req.a, req.b, (req.a + req.b)))\n",
    "    return AddTwoIntsResponse(req.a + req.b)"
   ]
  },
  {
   "cell_type": "code",
   "execution_count": null,
   "id": "f218a9a6",
   "metadata": {
    "scrolled": true
   },
   "outputs": [],
   "source": [
    "%%thread_cell\n",
    "\n",
    "srv = rospy.Service('add_two_ints', AddTwoInts, handle_add_two_ints)"
   ]
  },
  {
   "cell_type": "code",
   "execution_count": null,
   "id": "5f37b0cb",
   "metadata": {},
   "outputs": [],
   "source": [
    "jupyros.client('add_two_ints', AddTwoInts)"
   ]
  }
 ],
 "metadata": {
  "kernelspec": {
   "display_name": "Python 3 (ipykernel)",
   "language": "python",
   "name": "python3"
  },
  "language_info": {
   "codemirror_mode": {
    "name": "ipython",
    "version": 3
   },
   "file_extension": ".py",
   "mimetype": "text/x-python",
   "name": "python",
   "nbconvert_exporter": "python",
   "pygments_lexer": "ipython3",
   "version": "3.8.10"
  }
 },
 "nbformat": 4,
 "nbformat_minor": 5
}
