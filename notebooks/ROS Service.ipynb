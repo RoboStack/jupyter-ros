{
 "cells": [
  {
   "cell_type": "code",
   "execution_count": null,
   "id": "7259a8b6",
   "metadata": {},
   "outputs": [],
   "source": [
    "import jupyros\n",
    "import rospy\n",
    "from rospy_tutorials.srv import AddTwoInts, AddTwoIntsResponse"
   ]
  },
  {
   "cell_type": "code",
   "execution_count": null,
   "id": "e2d89970",
   "metadata": {},
   "outputs": [],
   "source": [
    "rospy.init_node(\"adder\")"
   ]
  },
  {
   "cell_type": "markdown",
   "id": "2572b8ea",
   "metadata": {},
   "source": [
    "# Add Two Ints"
   ]
  },
  {
   "cell_type": "code",
   "execution_count": null,
   "id": "8725d5f8",
   "metadata": {},
   "outputs": [],
   "source": [
    "def handle_add_two_ints(req):\n",
    "    print(\"Returning [%s + %s = %s]\"%(req.a, req.b, (req.a + req.b)))\n",
    "    return AddTwoIntsResponse(req.a + req.b)"
   ]
  },
  {
   "cell_type": "code",
   "execution_count": null,
   "id": "f218a9a6",
   "metadata": {
    "scrolled": true
   },
   "outputs": [],
   "source": [
    "%%thread_cell\n",
    "\n",
    "srv = rospy.Service('add_two_ints', AddTwoInts, handle_add_two_ints)"
   ]
  },
  {
   "cell_type": "code",
   "execution_count": null,
   "id": "5f37b0cb",
   "metadata": {},
   "outputs": [],
   "source": [
    "jupyros.client('add_two_ints', AddTwoInts)"
   ]
  }
 ],
 "metadata": {
  "kernelspec": {
   "display_name": "Python 3 (ipykernel)",
   "language": "python",
   "name": "python3"
  },
  "language_info": {
   "codemirror_mode": {
    "name": "ipython",
    "version": 3
   },
   "file_extension": ".py",
   "mimetype": "text/x-python",
   "name": "python",
   "nbconvert_exporter": "python",
   "pygments_lexer": "ipython3",
   "version": "3.9.13"
  }
 },
 "nbformat": 4,
 "nbformat_minor": 5
}
