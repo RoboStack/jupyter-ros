{
 "cells": [
  {
   "cell_type": "code",
   "execution_count": null,
   "id": "7259a8b6",
   "metadata": {},
   "outputs": [],
   "source": [
    "import rclpy as rp\n",
    "import jupyros.ros2 as jr2\n",
    "import jupyros.ros2.turtle_sim as turtle\n",
    "from turtlesim.srv import Spawn\n",
    "from turtlesim.msg import Pose\n",
    "import os\n",
    "from std_msgs.msg import String\n",
    "from geometry_msgs.msg import Twist\n",
    "from sidecar import Sidecar\n",
    "from time import time, sleep\n",
    "import math\n",
    "\n"
   ]
  },
  {
   "cell_type": "code",
   "execution_count": null,
   "id": "1964ecfc-67ee-47bf-aad3-824315c4418d",
   "metadata": {},
   "outputs": [],
   "source": [
    "# Initialize ROS communications for a given context\n",
    "if(rp.ok() == False):\n",
    "    rp.init()\n",
    "else:\n",
    "    print(\"rclpy already initiated\")"
   ]
  },
  {
   "cell_type": "code",
   "execution_count": null,
   "id": "47354d6d-8c92-47ce-9f85-c0c1e403d8bf",
   "metadata": {},
   "outputs": [],
   "source": [
    "superturtle = rp.create_node(\"superturtle\")\n",
    "moveNode = rp.create_node(\"moveNode\")"
   ]
  },
  {
   "cell_type": "code",
   "execution_count": null,
   "id": "2dbf024d",
   "metadata": {
    "tags": []
   },
   "outputs": [],
   "source": [
    "turtlesim = turtle.TurtleSim(background_color=\"#0000FF\")"
   ]
  },
  {
   "cell_type": "code",
   "execution_count": null,
   "id": "2bfe401a-2a01-4f75-839a-411b221bac8e",
   "metadata": {
    "tags": []
   },
   "outputs": [],
   "source": [
    "display(turtlesim.canvas)"
   ]
  },
  {
   "cell_type": "markdown",
   "id": "ece1ece3-54f6-4df8-be79-42d7f37f6e08",
   "metadata": {},
   "source": [
    "**TIP:** When using JupyterLab, you can right-click on the canvas and select *Create New View from Output*"
   ]
  },
  {
   "cell_type": "code",
   "execution_count": null,
   "id": "497db1e0-8c21-4ec0-b620-1607ab34d685",
   "metadata": {
    "tags": []
   },
   "outputs": [],
   "source": [
    "poses = {}\n",
    "\n",
    "for name in turtlesim.turtles.keys():\n",
    "    poses[name] = turtlesim.turtles[name].pose\n",
    "    \n",
    "print(poses[\"turtle1\"])"
   ]
  },
  {
   "cell_type": "code",
   "execution_count": null,
   "id": "ac63dbbb-b388-4b18-890c-e3bcada044a9",
   "metadata": {},
   "outputs": [],
   "source": []
  },
  {
   "cell_type": "code",
   "execution_count": null,
   "id": "cd2e66dc",
   "metadata": {},
   "outputs": [],
   "source": [
    "topic_name = '/Pose'\n",
    "def move_turtles(msg):\n",
    "    scale = 0.0015\n",
    "    name = \"turtle1\"\n",
    "    \n",
    "    def angle_slope():\n",
    "        d_y = (math.sin(msg.theta+1/180)*math.cos(msg.theta+1/180)-math.sin(msg.theta)*math.cos(msg.theta))\n",
    "        d_x = (math.cos(msg.theta+1/180) - math.cos(msg.theta))\n",
    "        return math.atan2(d_y,d_x)\n",
    "        \n",
    "    poses[name] = {\"x\": 1/scale * math.cos(msg.theta) + 800,\n",
    "                   \"y\": -1/scale * math.sin(msg.theta)*math.cos(msg.theta) + 800,\n",
    "                   \"theta\": angle_slope()}\n",
    "    ##msg.theta - math.atan2((-1/scale * math.sin(msg.theta)*math.cos(msg.theta) + 800),(1/scale * math.cos(msg.theta) + 800))\n",
    "  \n",
    "    turtlesim.move_turtles(new_poses=poses)\n",
    "\n",
    "\n",
    "\n",
    "\n",
    "def cb(msg):\n",
    "    move_turtles(msg)\n",
    "\n",
    "\n",
    "turtle_control = jr2.Subscriber(moveNode, Pose, topic_name, cb)\n",
    "turtle_control.display()"
   ]
  },
  {
   "cell_type": "code",
   "execution_count": null,
   "id": "c9e44409-1f96-426f-9826-95f2ddff5119",
   "metadata": {},
   "outputs": [],
   "source": [
    "%%thread_cell2\n",
    "run = True\n",
    "i = 90\n",
    "pub = jr2.Publisher(moveNode, Pose, topic_name)\n",
    "\n",
    "while run:\n",
    "    msg = Pose()\n",
    "    msg.theta = i / 180 * math.pi\n",
    "    pub.send_msg( msg)\n",
    "    sleep(0.01)\n",
    "    i += 1\n",
    "print(\"Done\")"
   ]
  },
  {
   "cell_type": "code",
   "execution_count": null,
   "id": "0fd093f5-122e-4006-8ad8-813428356fbe",
   "metadata": {},
   "outputs": [],
   "source": []
  }
 ],
 "metadata": {
  "kernelspec": {
   "display_name": "Python 3 (ipykernel)",
   "language": "python",
   "name": "python3"
  },
  "language_info": {
   "codemirror_mode": {
    "name": "ipython",
    "version": 3
   },
   "file_extension": ".py",
   "mimetype": "text/x-python",
   "name": "python",
   "nbconvert_exporter": "python",
   "pygments_lexer": "ipython3",
   "version": "3.8.10"
  }
 },
 "nbformat": 4,
 "nbformat_minor": 5
}
