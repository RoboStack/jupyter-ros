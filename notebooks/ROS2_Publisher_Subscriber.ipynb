{
 "cells": [
  {
   "cell_type": "code",
   "execution_count": null,
   "metadata": {},
   "outputs": [],
   "source": [
    "import rclpy as rp\n",
    "import jupyros.ros2 as jr2\n",
    "from geometry_msgs.msg import Pose, Point\n",
    "from sensor_msgs.msg import Image\n",
    "from std_msgs.msg import String"
   ]
  },
  {
   "cell_type": "code",
   "execution_count": null,
   "metadata": {},
   "outputs": [],
   "source": [
    "# Initialize ROS communications for a given context\n",
    "if(rp.ok() == False):\n",
    "    rp.init()\n",
    "else:\n",
    "    print(\"rclpy already initiated\")"
   ]
  },
  {
   "cell_type": "code",
   "execution_count": null,
   "metadata": {},
   "outputs": [],
   "source": [
    "test_node = rp.create_node(\"test_node\")\n"
   ]
  },
  {
   "cell_type": "code",
   "execution_count": null,
   "metadata": {},
   "outputs": [],
   "source": [
    "def cb(msg):\n",
    "    print(\"This function prints the msg\", msg)\n",
    "\n",
    "\n"
   ]
  },
  {
   "cell_type": "code",
   "execution_count": null,
   "metadata": {
    "scrolled": true
   },
   "outputs": [],
   "source": [
    "#Method 1 of subscribing and printing data\n",
    "sub = jr2.Subscriber(test_node, Pose, '/Pose', cb, print_incoming_msg=True)\n",
    "sub.display()"
   ]
  },
  {
   "cell_type": "code",
   "execution_count": null,
   "metadata": {},
   "outputs": [],
   "source": []
  },
  {
   "cell_type": "code",
   "execution_count": null,
   "metadata": {
    "tags": []
   },
   "outputs": [],
   "source": [
    "#Method 1 of publishing to node\n",
    "pub = jr2.Publisher(test_node, Pose, '/Pose')\n",
    "pub.display()"
   ]
  },
  {
   "cell_type": "code",
   "execution_count": null,
   "metadata": {},
   "outputs": [],
   "source": []
  }
 ],
 "metadata": {
  "kernelspec": {
   "display_name": "Python 3 (ipykernel)",
   "language": "python",
   "name": "python3"
  },
  "language_info": {
   "codemirror_mode": {
    "name": "ipython",
    "version": 3
   },
   "file_extension": ".py",
   "mimetype": "text/x-python",
   "name": "python",
   "nbconvert_exporter": "python",
   "pygments_lexer": "ipython3",
   "version": "3.8.10"
  }
 },
 "nbformat": 4,
 "nbformat_minor": 4
}
