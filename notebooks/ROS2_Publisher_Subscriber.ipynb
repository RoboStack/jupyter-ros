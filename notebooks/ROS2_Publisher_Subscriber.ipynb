{
 "cells": [
  {
   "cell_type": "code",
   "execution_count": 5,
   "metadata": {},
   "outputs": [],
   "source": [
    "## Relative pathing to the Jupyros module (jupyter-ros/jupyros), due to difficulty with with development install\n",
    "## Remove at PR if Dev Install successful \n",
    "import sys\n",
    "sys.path.append(\"./../\")\n",
    "##\n",
    "import rclpy as rp\n",
    "import jupyros.ros2 as jr2\n",
    "from geometry_msgs.msg import Pose, Point\n",
    "from sensor_msgs.msg import Image"
   ]
  },
  {
   "cell_type": "code",
   "execution_count": 6,
   "metadata": {},
   "outputs": [
    {
     "name": "stdout",
     "output_type": "stream",
     "text": [
      "rclpy already initiated\n"
     ]
    }
   ],
   "source": [
    "# Initialize ROS communications for a given context\n",
    "if(rp.ok() == False):\n",
    "    rp.init()\n",
    "else:\n",
    "    print(\"rclpy already initiated\")"
   ]
  },
  {
   "cell_type": "code",
   "execution_count": 7,
   "metadata": {},
   "outputs": [],
   "source": [
    "test_node = rp.create_node(\"test_node\")\n"
   ]
  },
  {
   "cell_type": "code",
   "execution_count": 8,
   "metadata": {},
   "outputs": [],
   "source": [
    "# def cb(msg):\n",
    "#     lx = msg.linear.x\n",
    "#     ly = msg.linear.y \n",
    "#     lz = msg.linear.z\n",
    "#     ax = msg.angular.x \n",
    "#     ay = msg.angular.y \n",
    "#     az = msg.angular.z \n",
    "#     return lx, ly, lz, ax, ay, az\n",
    "\n",
    "def cb(msg):\n",
    "    print(msg)\n"
   ]
  },
  {
   "cell_type": "code",
   "execution_count": 9,
   "metadata": {
    "scrolled": true
   },
   "outputs": [
    {
     "data": {
      "application/vnd.jupyter.widget-view+json": {
       "model_id": "c4073012709f468da15dc9c4014e190d",
       "version_major": 2,
       "version_minor": 0
      },
      "text/plain": [
       "VBox(children=(HBox(children=(Button(description='Start', style=ButtonStyle()), Button(description='Stop', sty…"
      ]
     },
     "metadata": {},
     "output_type": "display_data"
    }
   ],
   "source": [
    "#Method 1 of subscribing and printing data\n",
    "sub = jr2.Subscriber(test_node, Pose, '/Pose', cb, print_incoming_msg=True)\n",
    "sub.display()"
   ]
  },
  {
   "cell_type": "code",
   "execution_count": 10,
   "metadata": {},
   "outputs": [
    {
     "data": {
      "application/vnd.jupyter.widget-view+json": {
       "model_id": "16dcf28a7acc4fcf9da0c5a78f1ec86c",
       "version_major": 2,
       "version_minor": 0
      },
      "text/plain": [
       "VBox(children=(HBox(children=(Button(description='Start', style=ButtonStyle()), Button(description='Stop', sty…"
      ]
     },
     "metadata": {},
     "output_type": "display_data"
    }
   ],
   "source": [
    "#Method 2 of subscribing and printing data\n",
    "jr2.Subscriber(test_node, Pose, '/Pose', cb, print_incoming_msg=True).display()"
   ]
  },
  {
   "cell_type": "code",
   "execution_count": 11,
   "metadata": {
    "tags": []
   },
   "outputs": [
    {
     "data": {
      "application/vnd.jupyter.widget-view+json": {
       "model_id": "033656bd1c2c417b8f6adf246792c297",
       "version_major": 2,
       "version_minor": 0
      },
      "text/plain": [
       "VBox(children=(Label(value='position'), HBox(children=(Label(value='x', layout=Layout(width='100px')), FloatTe…"
      ]
     },
     "metadata": {},
     "output_type": "display_data"
    }
   ],
   "source": [
    "#Method 1 of publishing to node\n",
    "pub = jr2.Publisher(test_node, Pose, '/Pose')\n",
    "pub.display()"
   ]
  },
  {
   "cell_type": "code",
   "execution_count": null,
   "metadata": {},
   "outputs": [],
   "source": []
  },
  {
   "cell_type": "code",
   "execution_count": null,
   "metadata": {},
   "outputs": [],
   "source": []
  },
  {
   "cell_type": "code",
   "execution_count": null,
   "metadata": {},
   "outputs": [],
   "source": []
  },
  {
   "cell_type": "code",
   "execution_count": null,
   "metadata": {},
   "outputs": [],
   "source": []
  }
 ],
 "metadata": {
  "kernelspec": {
   "display_name": "Python 3 (ipykernel)",
   "language": "python",
   "name": "python3"
  },
  "language_info": {
   "codemirror_mode": {
    "name": "ipython",
    "version": 3
   },
   "file_extension": ".py",
   "mimetype": "text/x-python",
   "name": "python",
   "nbconvert_exporter": "python",
   "pygments_lexer": "ipython3",
   "version": "3.8.10"
  }
 },
 "nbformat": 4,
 "nbformat_minor": 4
}
