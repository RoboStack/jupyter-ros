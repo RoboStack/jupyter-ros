{
 "cells": [
  {
   "cell_type": "markdown",
   "id": "c42a5ef0-c01b-4e06-a308-d7e678c04f9b",
   "metadata": {},
   "source": [
    "### Setup"
   ]
  },
  {
   "cell_type": "code",
   "execution_count": null,
   "id": "66aad67d-2df0-4570-a622-38143872ffac",
   "metadata": {},
   "outputs": [],
   "source": [
    "%load_ext autoreload\n",
    "%autoreload 2"
   ]
  },
  {
   "cell_type": "code",
   "execution_count": null,
   "id": "d20847dc-1501-4105-855e-96e4a30059aa",
   "metadata": {},
   "outputs": [],
   "source": [
    "import jupyros\n",
    "import rospy\n",
    "import math\n",
    "from turtlesim.msg import Pose\n",
    "from time import time\n",
    "from jupyros.turtle_sim import TurtleSim\n",
    "\n",
    "rospy.init_node(\"superturtle\")"
   ]
  },
  {
   "cell_type": "markdown",
   "id": "1ca548ab-a77c-41eb-abe9-c64b82c6dabc",
   "metadata": {},
   "source": [
    "# tf2 Demo"
   ]
  },
  {
   "cell_type": "code",
   "execution_count": null,
   "id": "2f0a1090-2f50-48e1-af49-4ebc47abae61",
   "metadata": {},
   "outputs": [],
   "source": [
    "turtlesim = TurtleSim()\n",
    "\n",
    "# The canvas default size is 1600 x 1600 starting from top-left\n",
    "turtlesim.spawn(name=\"turtle2\", pose={\"x\": 630,\n",
    "                                      \"y\": 1260,\n",
    "                                      \"theta\": math.radians(90)})\n",
    "\n",
    "turtlesim.turtles[\"turtle2\"].path_color = \"#32292F\"\n",
    "\n",
    "display(turtlesim.canvas)"
   ]
  },
  {
   "cell_type": "code",
   "execution_count": null,
   "id": "c7937ade-1332-4a22-aa4f-4dc42639eed8",
   "metadata": {},
   "outputs": [],
   "source": [
    "topic1 = '/turtle1/pose'\n",
    "topic2 = '/turtle2/pose'\n",
    "\n",
    "new_poses = {'turtle1': turtlesim.turtles['turtle1'].pose,\n",
    "             'turtle2': turtlesim.turtles['turtle2'].pose}\n",
    "\n",
    "def convert_xy_units(x, y):\n",
    "    # Based on the dimensions of window controlled by teleop keyboard\n",
    "    convert_factor = 11.08\n",
    "    x_convert = x / convert_factor * turtlesim.canvas.width\n",
    "    y_convert = (convert_factor - y) / convert_factor * turtlesim.canvas.height\n",
    "    \n",
    "    return x_convert, y_convert\n",
    "\n",
    "def callback_move_turtle(msg, turtle_name):\n",
    "    x, y = convert_xy_units(msg.x, msg.y)\n",
    "    pose = {\"x\": x, \"y\": y, \"theta\": msg.theta}\n",
    "    new_poses[turtle_name] = {\"x\": x, \"y\": y, \"theta\": msg.theta}"
   ]
  },
  {
   "cell_type": "code",
   "execution_count": null,
   "id": "fb1885dd-65c7-4c5a-8926-cdde35bcb92f",
   "metadata": {},
   "outputs": [],
   "source": [
    "run = True"
   ]
  },
  {
   "cell_type": "code",
   "execution_count": null,
   "id": "afe6a018-1e23-4008-b25d-d826c4688b84",
   "metadata": {},
   "outputs": [],
   "source": [
    "%%thread_cell\n",
    "\n",
    "rate = rospy.Rate(30) # 10 Hz\n",
    "while run:\n",
    "    turtlesim.move_turtles(new_poses)\n",
    "    rate.sleep()\n",
    "    \n",
    "print('Done')    "
   ]
  },
  {
   "cell_type": "code",
   "execution_count": null,
   "id": "8ebe6f55-ee7c-478c-92cc-bbaf1d23edf0",
   "metadata": {},
   "outputs": [],
   "source": [
    "jupyros.subscribe(topic1, Pose, lambda msg: callback_move_turtle(msg, turtle_name=\"turtle1\"))"
   ]
  },
  {
   "cell_type": "code",
   "execution_count": null,
   "id": "4174078d-76b8-4cf2-9a95-4349330d2f3b",
   "metadata": {},
   "outputs": [],
   "source": [
    "jupyros.subscribe(topic2, Pose, lambda msg: callback_move_turtle(msg, turtle_name=\"turtle2\"))"
   ]
  },
  {
   "cell_type": "code",
   "execution_count": null,
   "id": "64fd8b40-30a6-4079-b8cd-34ece5f6cb9c",
   "metadata": {},
   "outputs": [],
   "source": [
    "# !roslaunch turtle_tf2 turtle_tf2_demo.launch"
   ]
  }
 ],
 "metadata": {
  "kernelspec": {
   "display_name": "Python 3 (ipykernel)",
   "language": "python",
   "name": "python3"
  },
  "language_info": {
   "codemirror_mode": {
    "name": "ipython",
    "version": 3
   },
   "file_extension": ".py",
   "mimetype": "text/x-python",
   "name": "python",
   "nbconvert_exporter": "python",
   "pygments_lexer": "ipython3",
   "version": "3.9.13"
  }
 },
 "nbformat": 4,
 "nbformat_minor": 5
}
