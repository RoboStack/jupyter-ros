{
 "cells": [
  {
   "cell_type": "code",
   "execution_count": null,
   "metadata": {},
   "outputs": [],
   "source": [
    "import rclpy as rp\n",
    "import jupyros as jr\n",
    "from geometry_msgs.msg import Pose, Vector3"
   ]
  },
  {
   "cell_type": "code",
   "execution_count": null,
   "metadata": {},
   "outputs": [],
   "source": [
    "rp.init()\n",
    "runner_node = rp.create_node(\"runner\")"
   ]
  },
  {
   "cell_type": "code",
   "execution_count": null,
   "metadata": {},
   "outputs": [],
   "source": [
    "%%thread_cell\n",
    "from geometry_msgs.msg import Pose, Vector3\n",
    "import math\n",
    "import time\n",
    "i = 0\n",
    "rate = 5\n",
    "pub = runner_node.create_publisher(Vector3, '/poser', 10)\n",
    "while True:\n",
    "    print(f\"Sending Message {i}!\", end=\"\\r\")\n",
    "    msg = Vector3()\n",
    "    msg.x = math.sin(i * 0.1)\n",
    "    msg.y = math.cos(i * 0.1)\n",
    "    pub.publish(msg)\n",
    "    i += 1\n",
    "    time.sleep(rate)"
   ]
  },
  {
   "cell_type": "code",
   "execution_count": null,
   "metadata": {
    "scrolled": false
   },
   "outputs": [],
   "source": [
    "jr.subscribe(runner_node, '/poser', Vector3, lambda msg: print(msg.x, msg.y))"
   ]
  },
  {
   "cell_type": "code",
   "execution_count": null,
   "metadata": {},
   "outputs": [],
   "source": [
    "plot_string = '/poser/:x:y'\n",
    "topic = plot_string[:plot_string.find(':') - 1]\n",
    "fields = plot_string.split(':')[1:]"
   ]
  },
  {
   "cell_type": "code",
   "execution_count": null,
   "metadata": {},
   "outputs": [],
   "source": [
    "jr.live_plot(runner_node, '/poser/:x:y', Vector3)"
   ]
  },
  {
   "cell_type": "code",
   "execution_count": null,
   "metadata": {},
   "outputs": [],
   "source": [
    "!rqt_plot /poser"
   ]
  },
  {
   "cell_type": "code",
   "execution_count": null,
   "metadata": {},
   "outputs": [],
   "source": []
  }
 ],
 "metadata": {
  "kernelspec": {
   "display_name": "Python 3",
   "language": "python",
   "name": "python3"
  },
  "language_info": {
   "codemirror_mode": {
    "name": "ipython",
    "version": 3
   },
   "file_extension": ".py",
   "mimetype": "text/x-python",
   "name": "python",
   "nbconvert_exporter": "python",
   "pygments_lexer": "ipython3",
   "version": "3.7.4"
  }
 },
 "nbformat": 4,
 "nbformat_minor": 2
}
