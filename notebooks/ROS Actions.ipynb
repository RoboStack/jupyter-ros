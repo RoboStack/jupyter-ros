{
 "cells": [
  {
   "cell_type": "markdown",
   "id": "a9fa9400-6183-4baf-b811-694120016e94",
   "metadata": {},
   "source": [
    "# ROS Actions\n",
    "---\n",
    "\n",
    "## Requirements\n",
    "\n",
    "- `ros-noetic-actionlib`\n",
    "- `ros-noetic-actionlib-tutorials`\n",
    "\n",
    "This notebook is equivalent to the example given in [wiki.ros.org/actionlib_tutorials](http://wiki.ros.org/actionlib_tutorials/Tutorials/Writing%20a%20Simple%20Action%20Server%20using%20the%20Execute%20Callback%20%28Python%29)."
   ]
  },
  {
   "cell_type": "code",
   "execution_count": null,
   "id": "482a5e52-8a7f-4b05-9ae2-77a5b3ad88bd",
   "metadata": {},
   "outputs": [],
   "source": [
    "import jupyros\n",
    "import rospy\n",
    "from actionlib_tutorials.msg import FibonacciAction, FibonacciGoal, FibonacciFeedback, FibonacciResult\n",
    "import actionlib\n",
    "\n",
    "rospy.init_node(\"fibonacci_client\")"
   ]
  },
  {
   "cell_type": "markdown",
   "id": "1cf0b55b-e1ae-457f-aef7-3e55a644e46d",
   "metadata": {},
   "source": [
    "### Action Server\n",
    "\n",
    "To start the Fibonacci server, from the terminal run:\n",
    "```sh\n",
    "rosrun actionlib_tutorials fibonacci_server.py\n",
    "```"
   ]
  },
  {
   "cell_type": "markdown",
   "id": "06d00110-4f1b-4653-848b-e0b1af4d2c0a",
   "metadata": {},
   "source": [
    "### Action Client"
   ]
  },
  {
   "cell_type": "code",
   "execution_count": null,
   "id": "931f450b-d93c-4c17-8a03-475f9db2b30f",
   "metadata": {},
   "outputs": [],
   "source": [
    "server_name = 'fibonacci'\n",
    "\n",
    "def feedback_fun(msg):\n",
    "    rospy.loginfo(f'Creating Fibonacci {msg}')\n",
    "\n",
    "# These callback functions are optional, but if included the key names must match\n",
    "callback_functions = {'done_cb': None,\n",
    "                      'active_cb': None,\n",
    "                      'feedback_cb': feedback_fun\n",
    "                     }"
   ]
  },
  {
   "cell_type": "markdown",
   "id": "014f681c-f6ea-4140-8489-453cbc6dc2c4",
   "metadata": {},
   "source": [
    "**Note:** If there is an error `ActionException: Type is not an action spec: <class 'actionlib_tutorials.msg._FibonacciAction.FibonacciAction'>`, it is useful to restart the kernel."
   ]
  },
  {
   "cell_type": "code",
   "execution_count": null,
   "id": "71acffbc-f9af-4f0e-a3fa-7a8b96dab038",
   "metadata": {},
   "outputs": [],
   "source": [
    "jupyros.action_client(server_name, FibonacciAction, FibonacciGoal, callback_functions)"
   ]
  },
  {
   "cell_type": "markdown",
   "id": "5610a244-c31d-4994-bf46-abb9b49f7a43",
   "metadata": {},
   "source": [
    "Check ROS Log for outputs."
   ]
  }
 ],
 "metadata": {
  "kernelspec": {
   "display_name": "Python 3 (ipykernel)",
   "language": "python",
   "name": "python3"
  },
  "language_info": {
   "codemirror_mode": {
    "name": "ipython",
    "version": 3
   },
   "file_extension": ".py",
   "mimetype": "text/x-python",
   "name": "python",
   "nbconvert_exporter": "python",
   "pygments_lexer": "ipython3",
   "version": "3.9.13"
  }
 },
 "nbformat": 4,
 "nbformat_minor": 5
}
