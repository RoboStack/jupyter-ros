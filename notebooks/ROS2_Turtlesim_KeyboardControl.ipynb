{
 "cells": [
  {
   "cell_type": "code",
   "execution_count": null,
   "id": "7259a8b6",
   "metadata": {},
   "outputs": [],
   "source": [
    "import rclpy as rp\n",
    "import jupyros.ros2 as jr2\n",
    "import jupyros.ros2.turtle_sim as turtle\n",
    "from turtlesim.srv import Spawn\n",
    "from turtlesim.msg import Pose\n",
    "from time import time\n",
    "import os\n",
    "from std_msgs.msg import String\n",
    "from geometry_msgs.msg import Twist\n",
    "from sidecar import Sidecar\n",
    "from time import time, sleep\n",
    "import math\n",
    "\n"
   ]
  },
  {
   "cell_type": "code",
   "execution_count": null,
   "id": "1964ecfc-67ee-47bf-aad3-824315c4418d",
   "metadata": {},
   "outputs": [],
   "source": [
    "# Initialize ROS communications for a given context\n",
    "if(rp.ok() == False):\n",
    "    rp.init()\n",
    "else:\n",
    "    print(\"rclpy already initiated\")"
   ]
  },
  {
   "cell_type": "code",
   "execution_count": null,
   "id": "47354d6d-8c92-47ce-9f85-c0c1e403d8bf",
   "metadata": {},
   "outputs": [],
   "source": [
    "superturtle = rp.create_node(\"superturtle\")\n",
    "keyInput = rp.create_node(\"keyInput\")\n",
    "com = rp.create_node(\"com\")\n",
    "simple = rp.create_node(\"simple\")\n",
    "translate = rp.create_node(\"translate\")"
   ]
  },
  {
   "cell_type": "code",
   "execution_count": null,
   "id": "3bdbfe05-c4d3-4fd3-abfa-f38b039d4541",
   "metadata": {},
   "outputs": [],
   "source": [
    "key_send = jr2.KeyInput(keyInput, String, '/keyboard_stream')\n",
    "key_send.display_inputs()"
   ]
  },
  {
   "cell_type": "code",
   "execution_count": null,
   "id": "2dbf024d",
   "metadata": {
    "tags": []
   },
   "outputs": [],
   "source": [
    "\n",
    "turtlesim = turtle.TurtleSim(background_color=\"#0000FF\")\n"
   ]
  },
  {
   "cell_type": "code",
   "execution_count": null,
   "id": "2bfe401a-2a01-4f75-839a-411b221bac8e",
   "metadata": {},
   "outputs": [],
   "source": [
    "\n",
    "display(turtlesim.canvas)"
   ]
  },
  {
   "cell_type": "markdown",
   "id": "ece1ece3-54f6-4df8-be79-42d7f37f6e08",
   "metadata": {},
   "source": [
    "**TIP:** When using JupyterLab, you can right-click on the canvas and select *Create New View from Output*"
   ]
  },
  {
   "cell_type": "code",
   "execution_count": null,
   "id": "497db1e0-8c21-4ec0-b620-1607ab34d685",
   "metadata": {},
   "outputs": [],
   "source": [
    "poses = {}\n",
    "\n",
    "for name in turtlesim.turtles.keys():\n",
    "    poses[name] = turtlesim.turtles[name].pose\n",
    "    \n",
    "print(poses[\"turtle1\"])"
   ]
  },
  {
   "cell_type": "code",
   "execution_count": null,
   "id": "ac63dbbb-b388-4b18-890c-e3bcada044a9",
   "metadata": {},
   "outputs": [],
   "source": [
    "turtlesim.turtles[name].pose"
   ]
  },
  {
   "cell_type": "code",
   "execution_count": null,
   "id": "cd2e66dc",
   "metadata": {},
   "outputs": [],
   "source": [
    "topic_name = '/keyboard_stream'\n",
    "def move_turtles(msg):\n",
    "    scale = 0.1\n",
    "    name = \"turtle1\"\n",
    "\n",
    "    poses[name] = {\"x\": turtlesim.turtles[name].pose[\"x\"] + msg.linear.x*math.cos(turtlesim.turtles[name].pose[\"theta\"])/scale,\n",
    "                   \"y\": turtlesim.turtles[name].pose[\"y\"] - msg.linear.x*math.sin(turtlesim.turtles[name].pose[\"theta\"] )/scale,\n",
    "                   \"theta\": turtlesim.turtles[name].pose[\"theta\"] + msg.angular.z/ 180 * math.pi}\n",
    "    \n",
    "  \n",
    "    turtlesim.move_turtles(new_poses=poses)\n",
    "\n",
    "\n",
    "\n",
    "\n",
    "def cb(msg):\n",
    "    # Receive string msg and translate\n",
    "    \n",
    "    key = msg.data\n",
    "    \n",
    "    #### General Keybindings  \"key: (x, y, z, a (alpha), b (beta), g (gamma)\"\n",
    "    \n",
    "    moveBindings = {\n",
    "    'ArrowLeft': (0,0,0,0, 0, 1),\n",
    "    'ArrowRight':(0,0,0,0, 0, -1),\n",
    "    'ArrowUp': (1,0,0,0, 0, 0, 0),\n",
    "    'ArrowDown': (-1,0,0,0, 0, 0)\n",
    "    }\n",
    "\n",
    "    \"\"\"\n",
    "    'i': (1, 0, 0, 0, 0, 0),\n",
    "    'o': (1, 0, 0, -1, 0, 0)),\n",
    "    \"\"\"\n",
    "    \n",
    "    ## General Keybinding Decoder\n",
    "    if key in moveBindings.keys():\n",
    "        x = float(moveBindings[key][0])\n",
    "        y = float(moveBindings[key][1])\n",
    "        z = float(moveBindings[key][2])\n",
    "        a = float(moveBindings[key][3])\n",
    "        b = float(moveBindings[key][4])\n",
    "        g = float(moveBindings[key][5])\n",
    "        \n",
    "    else:\n",
    "        x = 0.0\n",
    "        y = 0.0\n",
    "        z = 0.0\n",
    "        a = 0.0\n",
    "        b = 0.0\n",
    "        g = 0.0\n",
    "        \n",
    "\n",
    "   \n",
    "    twist = Twist()\n",
    "    twist.linear.x = x\n",
    "    twist.angular.z = g \n",
    "\n",
    "    move_turtles(twist)\n",
    "\n",
    "\n",
    "turtle_control = jr2.Subscriber(keyInput, String, topic_name, cb)\n",
    "turtle_control.display()"
   ]
  },
  {
   "cell_type": "code",
   "execution_count": null,
   "id": "c0cd916b-41a7-4832-9470-328c1d30689b",
   "metadata": {},
   "outputs": [],
   "source": []
  },
  {
   "cell_type": "code",
   "execution_count": null,
   "id": "69fbd5a8-f709-4782-9d46-f7dfc5a27fbc",
   "metadata": {},
   "outputs": [],
   "source": []
  }
 ],
 "metadata": {
  "kernelspec": {
   "display_name": "Python 3 (ipykernel)",
   "language": "python",
   "name": "python3"
  },
  "language_info": {
   "codemirror_mode": {
    "name": "ipython",
    "version": 3
   },
   "file_extension": ".py",
   "mimetype": "text/x-python",
   "name": "python",
   "nbconvert_exporter": "python",
   "pygments_lexer": "ipython3",
   "version": "3.8.10"
  }
 },
 "nbformat": 4,
 "nbformat_minor": 5
}
