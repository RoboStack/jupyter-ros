{
 "cells": [
  {
   "cell_type": "markdown",
   "metadata": {},
   "source": [
    "# `ros2` Live Plotting"
   ]
  },
  {
   "cell_type": "code",
   "execution_count": 6,
   "metadata": {},
   "outputs": [],
   "source": [
    "import rclpy as rp\n",
    "import jupyros.ros2 as jr2\n",
    "from geometry_msgs.msg import Vector3"
   ]
  },
  {
   "cell_type": "markdown",
   "metadata": {},
   "source": [
    "Create a `ros2` node."
   ]
  },
  {
   "cell_type": "code",
   "execution_count": 9,
   "metadata": {},
   "outputs": [
    {
     "ename": "RuntimeError",
     "evalue": "Failed to init: rcl_init called on an already initialized context, at /tmp/binarydeb/ros-foxy-rcl-1.1.13/src/rcl/init.c:79",
     "output_type": "error",
     "traceback": [
      "\u001b[0;31m---------------------------------------------------------------------------\u001b[0m",
      "\u001b[0;31mRuntimeError\u001b[0m                              Traceback (most recent call last)",
      "Input \u001b[0;32mIn [9]\u001b[0m, in \u001b[0;36m<cell line: 1>\u001b[0;34m()\u001b[0m\n\u001b[0;32m----> 1\u001b[0m \u001b[43mrp\u001b[49m\u001b[38;5;241;43m.\u001b[39;49m\u001b[43minit\u001b[49m\u001b[43m(\u001b[49m\u001b[43m)\u001b[49m\n\u001b[1;32m      2\u001b[0m runner_node \u001b[38;5;241m=\u001b[39m rp\u001b[38;5;241m.\u001b[39mcreate_node(\u001b[38;5;124m\"\u001b[39m\u001b[38;5;124mrunner\u001b[39m\u001b[38;5;124m\"\u001b[39m)\n",
      "File \u001b[0;32m/opt/ros/foxy/lib/python3.8/site-packages/rclpy/__init__.py:71\u001b[0m, in \u001b[0;36minit\u001b[0;34m(args, context)\u001b[0m\n\u001b[1;32m     63\u001b[0m \u001b[38;5;124;03m\"\"\"\u001b[39;00m\n\u001b[1;32m     64\u001b[0m \u001b[38;5;124;03mInitialize ROS communications for a given context.\u001b[39;00m\n\u001b[1;32m     65\u001b[0m \n\u001b[0;32m   (...)\u001b[0m\n\u001b[1;32m     68\u001b[0m \u001b[38;5;124;03m    (see :func:`.get_default_context`).\u001b[39;00m\n\u001b[1;32m     69\u001b[0m \u001b[38;5;124;03m\"\"\"\u001b[39;00m\n\u001b[1;32m     70\u001b[0m context \u001b[38;5;241m=\u001b[39m get_default_context() \u001b[38;5;28;01mif\u001b[39;00m context \u001b[38;5;129;01mis\u001b[39;00m \u001b[38;5;28;01mNone\u001b[39;00m \u001b[38;5;28;01melse\u001b[39;00m context\n\u001b[0;32m---> 71\u001b[0m \u001b[38;5;28;01mreturn\u001b[39;00m \u001b[43mcontext\u001b[49m\u001b[38;5;241;43m.\u001b[39;49m\u001b[43minit\u001b[49m\u001b[43m(\u001b[49m\u001b[43margs\u001b[49m\u001b[43m)\u001b[49m\n",
      "File \u001b[0;32m/opt/ros/foxy/lib/python3.8/site-packages/rclpy/context.py:59\u001b[0m, in \u001b[0;36mContext.init\u001b[0;34m(self, args, initialize_logging)\u001b[0m\n\u001b[1;32m     57\u001b[0m \u001b[38;5;28;01mglobal\u001b[39;00m g_logging_ref_count\n\u001b[1;32m     58\u001b[0m \u001b[38;5;28;01mwith\u001b[39;00m \u001b[38;5;28mself\u001b[39m\u001b[38;5;241m.\u001b[39m_handle \u001b[38;5;28;01mas\u001b[39;00m capsule, \u001b[38;5;28mself\u001b[39m\u001b[38;5;241m.\u001b[39m_lock:\n\u001b[0;32m---> 59\u001b[0m     \u001b[43mrclpy_implementation\u001b[49m\u001b[38;5;241;43m.\u001b[39;49m\u001b[43mrclpy_init\u001b[49m\u001b[43m(\u001b[49m\u001b[43margs\u001b[49m\u001b[43m \u001b[49m\u001b[38;5;28;43;01mif\u001b[39;49;00m\u001b[43m \u001b[49m\u001b[43margs\u001b[49m\u001b[43m \u001b[49m\u001b[38;5;129;43;01mis\u001b[39;49;00m\u001b[43m \u001b[49m\u001b[38;5;129;43;01mnot\u001b[39;49;00m\u001b[43m \u001b[49m\u001b[38;5;28;43;01mNone\u001b[39;49;00m\u001b[43m \u001b[49m\u001b[38;5;28;43;01melse\u001b[39;49;00m\u001b[43m \u001b[49m\u001b[43msys\u001b[49m\u001b[38;5;241;43m.\u001b[39;49m\u001b[43margv\u001b[49m\u001b[43m,\u001b[49m\u001b[43m \u001b[49m\u001b[43mcapsule\u001b[49m\u001b[43m)\u001b[49m\n\u001b[1;32m     60\u001b[0m     \u001b[38;5;28;01mif\u001b[39;00m initialize_logging \u001b[38;5;129;01mand\u001b[39;00m \u001b[38;5;129;01mnot\u001b[39;00m \u001b[38;5;28mself\u001b[39m\u001b[38;5;241m.\u001b[39m_logging_initialized:\n\u001b[1;32m     61\u001b[0m         \u001b[38;5;28;01mwith\u001b[39;00m g_logging_configure_lock:\n",
      "\u001b[0;31mRuntimeError\u001b[0m: Failed to init: rcl_init called on an already initialized context, at /tmp/binarydeb/ros-foxy-rcl-1.1.13/src/rcl/init.c:79"
     ]
    }
   ],
   "source": [
    "rp.init()\n",
    "runner_node = rp.create_node(\"runner\")"
   ]
  },
  {
   "cell_type": "markdown",
   "metadata": {},
   "source": [
    "Next, we will create a small `thread_cell` that will publish two sinusoidal values for our plot to display. This is just an example and can be made using a `jupyter-ros2` Publisher class."
   ]
  },
  {
   "cell_type": "code",
   "execution_count": 10,
   "metadata": {},
   "outputs": [
    {
     "data": {
      "application/vnd.jupyter.widget-view+json": {
       "model_id": "ce6c1dd281f847b1b84d0afad775bd2a",
       "version_major": 2,
       "version_minor": 0
      },
      "text/plain": [
       "Output(layout=Layout(border='1px solid gray'), outputs=({'output_type': 'stream', 'name': 'stdout', 'text': 'S…"
      ]
     },
     "metadata": {},
     "output_type": "display_data"
    }
   ],
   "source": [
    "%%thread_cell\n",
    "from geometry_msgs.msg import Vector3\n",
    "import math\n",
    "import time\n",
    "i = 0\n",
    "rate = 1\n",
    "pub = runner_node.create_publisher(Vector3, '/poser', 10)\n",
    "while True:\n",
    "    print(f\"Sending Message {i}!\", end=\"\\r\")\n",
    "    msg = Vector3()\n",
    "    msg.x = math.sin(i * 0.1)\n",
    "    msg.y = math.cos(i * 0.1)\n",
    "    pub.publish(msg)\n",
    "    i += 1\n",
    "    time.sleep(rate)"
   ]
  },
  {
   "cell_type": "markdown",
   "metadata": {},
   "source": [
    "Instantiate the `LivePlot` class with the msg type you would like and the topic from which to read."
   ]
  },
  {
   "cell_type": "code",
   "execution_count": 12,
   "metadata": {},
   "outputs": [],
   "source": [
    "lplotter = jr2.LivePlot(runner_node, Vector3, '/poser')"
   ]
  },
  {
   "cell_type": "markdown",
   "metadata": {},
   "source": [
    "You can change the plots title, x and y label before displaying the plot in real-time."
   ]
  },
  {
   "cell_type": "code",
   "execution_count": 13,
   "metadata": {},
   "outputs": [],
   "source": [
    "lplotter.change_title(\"Demo Live Plot\")\n",
    "lplotter.change_xlabel(\"Time (s)\")\n",
    "lplotter.change_ylabel(\"Amplitude\")"
   ]
  },
  {
   "cell_type": "markdown",
   "metadata": {},
   "source": [
    "Finally, display the live plot using the `display()` call."
   ]
  },
  {
   "cell_type": "code",
   "execution_count": 14,
   "metadata": {},
   "outputs": [
    {
     "data": {
      "application/vnd.jupyter.widget-view+json": {
       "model_id": "af2cd21cb09c4f63ab868c8c2ffc5ab1",
       "version_major": 2,
       "version_minor": 0
      },
      "text/plain": [
       "Figure(axes=[Axis(label='Time (s)', scale=LinearScale()), Axis(label='Amplitude', orientation='vertical', scal…"
      ]
     },
     "metadata": {},
     "output_type": "display_data"
    }
   ],
   "source": [
    "lplotter.display()"
   ]
  },
  {
   "cell_type": "code",
   "execution_count": null,
   "metadata": {},
   "outputs": [],
   "source": []
  }
 ],
 "metadata": {
  "kernelspec": {
   "display_name": "Python 3 (ipykernel)",
   "language": "python",
   "name": "python3"
  },
  "language_info": {
   "codemirror_mode": {
    "name": "ipython",
    "version": 3
   },
   "file_extension": ".py",
   "mimetype": "text/x-python",
   "name": "python",
   "nbconvert_exporter": "python",
   "pygments_lexer": "ipython3",
   "version": "3.8.10"
  }
 },
 "nbformat": 4,
 "nbformat_minor": 4
}
